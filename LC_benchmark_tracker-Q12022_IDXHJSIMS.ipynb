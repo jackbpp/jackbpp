{
 "cells": [
  {
   "cell_type": "markdown",
   "id": "e2beacad",
   "metadata": {},
   "source": [
    "# Leavenworth Benchmark tracker"
   ]
  },
  {
   "cell_type": "code",
   "execution_count": 1,
   "id": "f5feda88",
   "metadata": {},
   "outputs": [],
   "source": [
    "import leavenworth as lc\n",
    "import yfinance as yf\n",
    "import pandas as pd\n",
    "import janitor\n",
    "import seaborn as sns\n",
    "from matplotlib import pyplot as plt\n",
    "import matplotlib.ticker as mtick\n",
    "from datetime import datetime\n",
    "import numpy as np\n",
    "\n",
    "now = datetime.now()\n",
    "start_date = now.date().replace(year=now.year -1,month=12, day=31).strftime('%Y-%m-%d')"
   ]
  },
  {
   "cell_type": "code",
   "execution_count": 2,
   "id": "62a48c53",
   "metadata": {},
   "outputs": [],
   "source": [
    "import matplotlib.font_manager as font_manager\n",
    "import os\n",
    "\n",
    "# Add every font at the specified location\n",
    "font_dir = os.path.join('C:\\\\', 'Users', 'rgrover1', 'Downloads', 'lcfonts')\n",
    "for font in font_manager.findSystemFonts(font_dir):\n",
    "    #print(font)\n",
    "    font_manager.fontManager.addfont(font)"
   ]
  },
  {
   "cell_type": "code",
   "execution_count": 3,
   "id": "61178b9d",
   "metadata": {},
   "outputs": [],
   "source": [
    "font = 'Legacy Sans ITC Pro'\n",
    "image_scale = 2"
   ]
  },
  {
   "cell_type": "code",
   "execution_count": 4,
   "id": "275499a7",
   "metadata": {},
   "outputs": [],
   "source": [
    "def set_params(plot_style, **kwargs):\n",
    "    from seaborn import set_context, set_style\n",
    "    font_scale = kwargs.setdefault('font_scale', 1.5)\n",
    "    linewidth = kwargs.setdefault('linewidth', 1)\n",
    "    sns.set(font=font)\n",
    "    set_context(\"notebook\", font_scale = font_scale, rc = {\"lines.linewidth\":linewidth})\n",
    "\n",
    "    if plot_style == 'dark':\n",
    "        from jupyterthemes import jtplot\n",
    "        jtplot.style(theme='onedork')\n",
    "        title_color = 'gold'\n",
    "        cmap = 'Reds'\n",
    "    else:\n",
    "        import matplotlib.pyplot as plt\n",
    "        #rcParams['font.family'] = 'ITC'\n",
    "        plt.style.use('fivethirtyeight')\n",
    "        # set_style(\"whitegrid\")\n",
    "        title_color = 'black'\n",
    "        cmap = 'Reds'\n",
    "    \n",
    "    params = {}\n",
    "    params['title_color'] = title_color\n",
    "    params['cmap'] = cmap\n",
    "    # Create an array with the colors you want to use\n",
    "    colors = ['#cc9933', \"#2e4959\", '#cccccc', \"#7C9eA6\", '#434343']\n",
    "    # sns.set(font=\"Times New Roman\")\n",
    "    # Set your custom color palette\n",
    "    sns.set_palette(sns.color_palette(colors))\n",
    "    return(params)"
   ]
  },
  {
   "cell_type": "code",
   "execution_count": 5,
   "id": "79faa2d3",
   "metadata": {},
   "outputs": [],
   "source": [
    "def returns(df, t, period = 'month'):\n",
    "    if period == 'month':\n",
    "        s = (df.resample('M').last()[t].pct_change()).round(4)\n",
    "    elif period == 'quarter':\n",
    "        s = (df.resample('Q').last()[t].pct_change()).round(4)\n",
    "    elif period == 'year':\n",
    "        s = (df.resample('Y').last()[t].pct_change()).round(4)\n",
    "    elif period == 'last1Y':\n",
    "        s = (df.resample('M').last().tail(13)[t].pct_change()).round(4)\n",
    "    else:\n",
    "        raise Exception('Invalid period.')\n",
    "    return s"
   ]
  },
  {
   "cell_type": "code",
   "execution_count": 6,
   "id": "3db45f1f",
   "metadata": {},
   "outputs": [],
   "source": [
    "params = set_params('light')"
   ]
  },
  {
   "cell_type": "code",
   "execution_count": 7,
   "id": "a9e953eb",
   "metadata": {},
   "outputs": [
    {
     "data": {
      "text/plain": [
       "'0.1.63'"
      ]
     },
     "execution_count": 7,
     "metadata": {},
     "output_type": "execute_result"
    }
   ],
   "source": [
    "yf.__version__"
   ]
  },
  {
   "cell_type": "markdown",
   "id": "0787c919",
   "metadata": {},
   "source": [
    "# Ticker Def"
   ]
  },
  {
   "cell_type": "code",
   "execution_count": 8,
   "id": "a3852edc",
   "metadata": {},
   "outputs": [],
   "source": [
    "tickers = ['^GSPC', 'GLD', 'BTC-USD', 'GBTC', 'ETH-USD', 'ETHE']"
   ]
  },
  {
   "cell_type": "markdown",
   "id": "25596e88",
   "metadata": {},
   "source": [
    "Comment out line below if you want to run comps against GBTC and ETHE"
   ]
  },
  {
   "cell_type": "code",
   "execution_count": 9,
   "id": "89db1029",
   "metadata": {},
   "outputs": [],
   "source": [
    " tickers = ['^GSPC', 'GBTC']"
   ]
  },
  {
   "cell_type": "markdown",
   "id": "a3c1e720",
   "metadata": {},
   "source": [
    "# Data pull"
   ]
  },
  {
   "cell_type": "code",
   "execution_count": 10,
   "id": "a08c6d7b",
   "metadata": {},
   "outputs": [],
   "source": [
    "price = pd.DataFrame()\n",
    "for ticker in tickers:\n",
    "    s = yf.Ticker(ticker)\n",
    "    h = s.history(period = '5y')\n",
    "    h['TICKER'] = ticker\n",
    "    price = price.append(h)"
   ]
  },
  {
   "cell_type": "code",
   "execution_count": 11,
   "id": "ae6974f6",
   "metadata": {},
   "outputs": [],
   "source": [
    "pivot = price.reset_index().pivot_table(index = 'Date', columns = 'TICKER', values = 'Close', aggfunc = 'mean')"
   ]
  },
  {
   "cell_type": "code",
   "execution_count": 12,
   "id": "616e2ce6",
   "metadata": {},
   "outputs": [],
   "source": [
    "pivot = pivot.loc['2020-11-30':'2022-03-31']"
   ]
  },
  {
   "cell_type": "code",
   "execution_count": 13,
   "id": "8c36b691",
   "metadata": {
    "scrolled": false
   },
   "outputs": [
    {
     "data": {
      "text/html": [
       "<div>\n",
       "<style scoped>\n",
       "    .dataframe tbody tr th:only-of-type {\n",
       "        vertical-align: middle;\n",
       "    }\n",
       "\n",
       "    .dataframe tbody tr th {\n",
       "        vertical-align: top;\n",
       "    }\n",
       "\n",
       "    .dataframe thead th {\n",
       "        text-align: right;\n",
       "    }\n",
       "</style>\n",
       "<table border=\"1\" class=\"dataframe\">\n",
       "  <thead>\n",
       "    <tr style=\"text-align: right;\">\n",
       "      <th>TICKER</th>\n",
       "      <th>GBTC</th>\n",
       "      <th>^GSPC</th>\n",
       "    </tr>\n",
       "    <tr>\n",
       "      <th>Date</th>\n",
       "      <th></th>\n",
       "      <th></th>\n",
       "    </tr>\n",
       "  </thead>\n",
       "  <tbody>\n",
       "    <tr>\n",
       "      <th>2020-11-30</th>\n",
       "      <td>23.194000</td>\n",
       "      <td>3621.629883</td>\n",
       "    </tr>\n",
       "    <tr>\n",
       "      <th>2020-12-01</th>\n",
       "      <td>23.740000</td>\n",
       "      <td>3662.449951</td>\n",
       "    </tr>\n",
       "    <tr>\n",
       "      <th>2020-12-02</th>\n",
       "      <td>23.389999</td>\n",
       "      <td>3669.010010</td>\n",
       "    </tr>\n",
       "    <tr>\n",
       "      <th>2020-12-03</th>\n",
       "      <td>24.000000</td>\n",
       "      <td>3666.719971</td>\n",
       "    </tr>\n",
       "    <tr>\n",
       "      <th>2020-12-04</th>\n",
       "      <td>23.219999</td>\n",
       "      <td>3699.120117</td>\n",
       "    </tr>\n",
       "    <tr>\n",
       "      <th>...</th>\n",
       "      <td>...</td>\n",
       "      <td>...</td>\n",
       "    </tr>\n",
       "    <tr>\n",
       "      <th>2022-03-25</th>\n",
       "      <td>30.170000</td>\n",
       "      <td>4543.060059</td>\n",
       "    </tr>\n",
       "    <tr>\n",
       "      <th>2022-03-28</th>\n",
       "      <td>32.810001</td>\n",
       "      <td>4575.520020</td>\n",
       "    </tr>\n",
       "    <tr>\n",
       "      <th>2022-03-29</th>\n",
       "      <td>32.869999</td>\n",
       "      <td>4631.600098</td>\n",
       "    </tr>\n",
       "    <tr>\n",
       "      <th>2022-03-30</th>\n",
       "      <td>32.060001</td>\n",
       "      <td>4602.450195</td>\n",
       "    </tr>\n",
       "    <tr>\n",
       "      <th>2022-03-31</th>\n",
       "      <td>30.540001</td>\n",
       "      <td>4530.410156</td>\n",
       "    </tr>\n",
       "  </tbody>\n",
       "</table>\n",
       "<p>337 rows × 2 columns</p>\n",
       "</div>"
      ],
      "text/plain": [
       "TICKER           GBTC        ^GSPC\n",
       "Date                              \n",
       "2020-11-30  23.194000  3621.629883\n",
       "2020-12-01  23.740000  3662.449951\n",
       "2020-12-02  23.389999  3669.010010\n",
       "2020-12-03  24.000000  3666.719971\n",
       "2020-12-04  23.219999  3699.120117\n",
       "...               ...          ...\n",
       "2022-03-25  30.170000  4543.060059\n",
       "2022-03-28  32.810001  4575.520020\n",
       "2022-03-29  32.869999  4631.600098\n",
       "2022-03-30  32.060001  4602.450195\n",
       "2022-03-31  30.540001  4530.410156\n",
       "\n",
       "[337 rows x 2 columns]"
      ]
     },
     "execution_count": 13,
     "metadata": {},
     "output_type": "execute_result"
    }
   ],
   "source": [
    "pivot"
   ]
  },
  {
   "cell_type": "markdown",
   "id": "488bf47d",
   "metadata": {},
   "source": [
    "# Monthly returns"
   ]
  },
  {
   "cell_type": "code",
   "execution_count": 14,
   "id": "5d63f7c1",
   "metadata": {},
   "outputs": [],
   "source": [
    "mr = pd.DataFrame()\n",
    "for ticker in tickers:\n",
    "    s = returns(pivot, ticker, period = 'month')\n",
    "    mr[ticker] = s"
   ]
  },
  {
   "cell_type": "code",
   "execution_count": 15,
   "id": "a3637186",
   "metadata": {},
   "outputs": [
    {
     "data": {
      "text/html": [
       "<div>\n",
       "<style scoped>\n",
       "    .dataframe tbody tr th:only-of-type {\n",
       "        vertical-align: middle;\n",
       "    }\n",
       "\n",
       "    .dataframe tbody tr th {\n",
       "        vertical-align: top;\n",
       "    }\n",
       "\n",
       "    .dataframe thead th {\n",
       "        text-align: right;\n",
       "    }\n",
       "</style>\n",
       "<table border=\"1\" class=\"dataframe\">\n",
       "  <thead>\n",
       "    <tr style=\"text-align: right;\">\n",
       "      <th></th>\n",
       "      <th>^GSPC</th>\n",
       "      <th>GBTC</th>\n",
       "    </tr>\n",
       "    <tr>\n",
       "      <th>Date</th>\n",
       "      <th></th>\n",
       "      <th></th>\n",
       "    </tr>\n",
       "  </thead>\n",
       "  <tbody>\n",
       "    <tr>\n",
       "      <th>2020-11-30</th>\n",
       "      <td>NaN</td>\n",
       "      <td>NaN</td>\n",
       "    </tr>\n",
       "    <tr>\n",
       "      <th>2020-12-31</th>\n",
       "      <td>0.0371</td>\n",
       "      <td>0.3797</td>\n",
       "    </tr>\n",
       "    <tr>\n",
       "      <th>2021-01-31</th>\n",
       "      <td>-0.0111</td>\n",
       "      <td>0.0841</td>\n",
       "    </tr>\n",
       "    <tr>\n",
       "      <th>2021-02-28</th>\n",
       "      <td>0.0261</td>\n",
       "      <td>0.2453</td>\n",
       "    </tr>\n",
       "    <tr>\n",
       "      <th>2021-03-31</th>\n",
       "      <td>0.0424</td>\n",
       "      <td>0.1583</td>\n",
       "    </tr>\n",
       "    <tr>\n",
       "      <th>2021-04-30</th>\n",
       "      <td>0.0524</td>\n",
       "      <td>-0.0637</td>\n",
       "    </tr>\n",
       "    <tr>\n",
       "      <th>2021-05-31</th>\n",
       "      <td>0.0055</td>\n",
       "      <td>-0.3550</td>\n",
       "    </tr>\n",
       "    <tr>\n",
       "      <th>2021-06-30</th>\n",
       "      <td>0.0222</td>\n",
       "      <td>-0.0136</td>\n",
       "    </tr>\n",
       "    <tr>\n",
       "      <th>2021-07-31</th>\n",
       "      <td>0.0227</td>\n",
       "      <td>0.1652</td>\n",
       "    </tr>\n",
       "    <tr>\n",
       "      <th>2021-08-31</th>\n",
       "      <td>0.0290</td>\n",
       "      <td>0.0874</td>\n",
       "    </tr>\n",
       "    <tr>\n",
       "      <th>2021-09-30</th>\n",
       "      <td>-0.0476</td>\n",
       "      <td>-0.1038</td>\n",
       "    </tr>\n",
       "    <tr>\n",
       "      <th>2021-10-31</th>\n",
       "      <td>0.0691</td>\n",
       "      <td>0.4679</td>\n",
       "    </tr>\n",
       "    <tr>\n",
       "      <th>2021-11-30</th>\n",
       "      <td>-0.0083</td>\n",
       "      <td>-0.0698</td>\n",
       "    </tr>\n",
       "    <tr>\n",
       "      <th>2021-12-31</th>\n",
       "      <td>0.0436</td>\n",
       "      <td>-0.2590</td>\n",
       "    </tr>\n",
       "    <tr>\n",
       "      <th>2022-01-31</th>\n",
       "      <td>-0.0526</td>\n",
       "      <td>-0.2339</td>\n",
       "    </tr>\n",
       "    <tr>\n",
       "      <th>2022-02-28</th>\n",
       "      <td>-0.0314</td>\n",
       "      <td>0.1200</td>\n",
       "    </tr>\n",
       "    <tr>\n",
       "      <th>2022-03-31</th>\n",
       "      <td>0.0358</td>\n",
       "      <td>0.0391</td>\n",
       "    </tr>\n",
       "  </tbody>\n",
       "</table>\n",
       "</div>"
      ],
      "text/plain": [
       "             ^GSPC    GBTC\n",
       "Date                      \n",
       "2020-11-30     NaN     NaN\n",
       "2020-12-31  0.0371  0.3797\n",
       "2021-01-31 -0.0111  0.0841\n",
       "2021-02-28  0.0261  0.2453\n",
       "2021-03-31  0.0424  0.1583\n",
       "2021-04-30  0.0524 -0.0637\n",
       "2021-05-31  0.0055 -0.3550\n",
       "2021-06-30  0.0222 -0.0136\n",
       "2021-07-31  0.0227  0.1652\n",
       "2021-08-31  0.0290  0.0874\n",
       "2021-09-30 -0.0476 -0.1038\n",
       "2021-10-31  0.0691  0.4679\n",
       "2021-11-30 -0.0083 -0.0698\n",
       "2021-12-31  0.0436 -0.2590\n",
       "2022-01-31 -0.0526 -0.2339\n",
       "2022-02-28 -0.0314  0.1200\n",
       "2022-03-31  0.0358  0.0391"
      ]
     },
     "execution_count": 15,
     "metadata": {},
     "output_type": "execute_result"
    }
   ],
   "source": [
    "mr"
   ]
  },
  {
   "cell_type": "code",
   "execution_count": 16,
   "id": "0dc3e86c",
   "metadata": {},
   "outputs": [],
   "source": [
    "mr = mr.rename_column('^GSPC', 'S&P500')\n",
    "mr = mr.reset_index()"
   ]
  },
  {
   "cell_type": "code",
   "execution_count": 17,
   "id": "9bfe06cb",
   "metadata": {},
   "outputs": [],
   "source": [
    "mr['BTCUSD'] = pd.Series([np.nan, .465, .1526, .3254, .3377, -.042, -.3486, -.0519, 0.1941, 0.1503, -0.0956, 0.40762, -0.0322, -0.1820, -0.2127, 0.0691, 0.1519])\n",
    "mr['Leavenworth Digital Growth'] = pd.Series([np.nan, .3846, .3606, .2974, .3380, -.0408, -.3476, -.051, 0.1948, 0.1425, -0.0876, 0.4292, -0.0322, -0.1820, -0.2127, 0.0691, 0.1895])"
   ]
  },
  {
   "cell_type": "markdown",
   "id": "ec7beb01",
   "metadata": {},
   "source": [
    "mr['LDGS_NOF'] = mr['Leavenworth Digital Growth']-0.02/12"
   ]
  },
  {
   "cell_type": "markdown",
   "id": "1fe5231f",
   "metadata": {},
   "source": [
    "(mr['LDGS_NOF'][1:]+1).cumprod()-1"
   ]
  },
  {
   "cell_type": "markdown",
   "id": "c11ca3e3",
   "metadata": {},
   "source": [
    "This is to stack the colums with Leavenworth first followed by BTCUSD"
   ]
  },
  {
   "cell_type": "code",
   "execution_count": 18,
   "id": "c2be05da",
   "metadata": {},
   "outputs": [
    {
     "data": {
      "text/plain": [
       "['Date', 'S&P500', 'GBTC', 'BTCUSD', 'Leavenworth Digital Growth']"
      ]
     },
     "execution_count": 18,
     "metadata": {},
     "output_type": "execute_result"
    }
   ],
   "source": [
    "mr.columns.tolist()"
   ]
  },
  {
   "cell_type": "code",
   "execution_count": 19,
   "id": "f22cf4e5",
   "metadata": {},
   "outputs": [
    {
     "data": {
      "text/plain": [
       "['Leavenworth Digital Growth', 'BTCUSD', 'Date', 'S&P500', 'GBTC']"
      ]
     },
     "execution_count": 19,
     "metadata": {},
     "output_type": "execute_result"
    }
   ],
   "source": [
    "first_cols = ['Leavenworth Digital Growth', 'BTCUSD']\n",
    "cols = first_cols + [x for x in mr.columns.tolist() if x not in first_cols]\n",
    "cols"
   ]
  },
  {
   "cell_type": "code",
   "execution_count": 20,
   "id": "3675e544",
   "metadata": {},
   "outputs": [],
   "source": [
    "mr = mr[cols]"
   ]
  },
  {
   "cell_type": "code",
   "execution_count": 21,
   "id": "2bafb730",
   "metadata": {},
   "outputs": [
    {
     "data": {
      "text/html": [
       "<div>\n",
       "<style scoped>\n",
       "    .dataframe tbody tr th:only-of-type {\n",
       "        vertical-align: middle;\n",
       "    }\n",
       "\n",
       "    .dataframe tbody tr th {\n",
       "        vertical-align: top;\n",
       "    }\n",
       "\n",
       "    .dataframe thead th {\n",
       "        text-align: right;\n",
       "    }\n",
       "</style>\n",
       "<table border=\"1\" class=\"dataframe\">\n",
       "  <thead>\n",
       "    <tr style=\"text-align: right;\">\n",
       "      <th></th>\n",
       "      <th>Leavenworth Digital Growth</th>\n",
       "      <th>BTCUSD</th>\n",
       "      <th>Date</th>\n",
       "      <th>S&amp;P500</th>\n",
       "      <th>GBTC</th>\n",
       "    </tr>\n",
       "  </thead>\n",
       "  <tbody>\n",
       "    <tr>\n",
       "      <th>0</th>\n",
       "      <td>NaN</td>\n",
       "      <td>NaN</td>\n",
       "      <td>2020-11-30</td>\n",
       "      <td>NaN</td>\n",
       "      <td>NaN</td>\n",
       "    </tr>\n",
       "    <tr>\n",
       "      <th>1</th>\n",
       "      <td>0.3846</td>\n",
       "      <td>0.46500</td>\n",
       "      <td>2020-12-31</td>\n",
       "      <td>0.0371</td>\n",
       "      <td>0.3797</td>\n",
       "    </tr>\n",
       "    <tr>\n",
       "      <th>2</th>\n",
       "      <td>0.3606</td>\n",
       "      <td>0.15260</td>\n",
       "      <td>2021-01-31</td>\n",
       "      <td>-0.0111</td>\n",
       "      <td>0.0841</td>\n",
       "    </tr>\n",
       "    <tr>\n",
       "      <th>3</th>\n",
       "      <td>0.2974</td>\n",
       "      <td>0.32540</td>\n",
       "      <td>2021-02-28</td>\n",
       "      <td>0.0261</td>\n",
       "      <td>0.2453</td>\n",
       "    </tr>\n",
       "    <tr>\n",
       "      <th>4</th>\n",
       "      <td>0.3380</td>\n",
       "      <td>0.33770</td>\n",
       "      <td>2021-03-31</td>\n",
       "      <td>0.0424</td>\n",
       "      <td>0.1583</td>\n",
       "    </tr>\n",
       "    <tr>\n",
       "      <th>5</th>\n",
       "      <td>-0.0408</td>\n",
       "      <td>-0.04200</td>\n",
       "      <td>2021-04-30</td>\n",
       "      <td>0.0524</td>\n",
       "      <td>-0.0637</td>\n",
       "    </tr>\n",
       "    <tr>\n",
       "      <th>6</th>\n",
       "      <td>-0.3476</td>\n",
       "      <td>-0.34860</td>\n",
       "      <td>2021-05-31</td>\n",
       "      <td>0.0055</td>\n",
       "      <td>-0.3550</td>\n",
       "    </tr>\n",
       "    <tr>\n",
       "      <th>7</th>\n",
       "      <td>-0.0510</td>\n",
       "      <td>-0.05190</td>\n",
       "      <td>2021-06-30</td>\n",
       "      <td>0.0222</td>\n",
       "      <td>-0.0136</td>\n",
       "    </tr>\n",
       "    <tr>\n",
       "      <th>8</th>\n",
       "      <td>0.1948</td>\n",
       "      <td>0.19410</td>\n",
       "      <td>2021-07-31</td>\n",
       "      <td>0.0227</td>\n",
       "      <td>0.1652</td>\n",
       "    </tr>\n",
       "    <tr>\n",
       "      <th>9</th>\n",
       "      <td>0.1425</td>\n",
       "      <td>0.15030</td>\n",
       "      <td>2021-08-31</td>\n",
       "      <td>0.0290</td>\n",
       "      <td>0.0874</td>\n",
       "    </tr>\n",
       "    <tr>\n",
       "      <th>10</th>\n",
       "      <td>-0.0876</td>\n",
       "      <td>-0.09560</td>\n",
       "      <td>2021-09-30</td>\n",
       "      <td>-0.0476</td>\n",
       "      <td>-0.1038</td>\n",
       "    </tr>\n",
       "    <tr>\n",
       "      <th>11</th>\n",
       "      <td>0.4292</td>\n",
       "      <td>0.40762</td>\n",
       "      <td>2021-10-31</td>\n",
       "      <td>0.0691</td>\n",
       "      <td>0.4679</td>\n",
       "    </tr>\n",
       "    <tr>\n",
       "      <th>12</th>\n",
       "      <td>-0.0322</td>\n",
       "      <td>-0.03220</td>\n",
       "      <td>2021-11-30</td>\n",
       "      <td>-0.0083</td>\n",
       "      <td>-0.0698</td>\n",
       "    </tr>\n",
       "    <tr>\n",
       "      <th>13</th>\n",
       "      <td>-0.1820</td>\n",
       "      <td>-0.18200</td>\n",
       "      <td>2021-12-31</td>\n",
       "      <td>0.0436</td>\n",
       "      <td>-0.2590</td>\n",
       "    </tr>\n",
       "    <tr>\n",
       "      <th>14</th>\n",
       "      <td>-0.2127</td>\n",
       "      <td>-0.21270</td>\n",
       "      <td>2022-01-31</td>\n",
       "      <td>-0.0526</td>\n",
       "      <td>-0.2339</td>\n",
       "    </tr>\n",
       "    <tr>\n",
       "      <th>15</th>\n",
       "      <td>0.0691</td>\n",
       "      <td>0.06910</td>\n",
       "      <td>2022-02-28</td>\n",
       "      <td>-0.0314</td>\n",
       "      <td>0.1200</td>\n",
       "    </tr>\n",
       "    <tr>\n",
       "      <th>16</th>\n",
       "      <td>0.1895</td>\n",
       "      <td>0.15190</td>\n",
       "      <td>2022-03-31</td>\n",
       "      <td>0.0358</td>\n",
       "      <td>0.0391</td>\n",
       "    </tr>\n",
       "  </tbody>\n",
       "</table>\n",
       "</div>"
      ],
      "text/plain": [
       "    Leavenworth Digital Growth   BTCUSD       Date  S&P500    GBTC\n",
       "0                          NaN      NaN 2020-11-30     NaN     NaN\n",
       "1                       0.3846  0.46500 2020-12-31  0.0371  0.3797\n",
       "2                       0.3606  0.15260 2021-01-31 -0.0111  0.0841\n",
       "3                       0.2974  0.32540 2021-02-28  0.0261  0.2453\n",
       "4                       0.3380  0.33770 2021-03-31  0.0424  0.1583\n",
       "5                      -0.0408 -0.04200 2021-04-30  0.0524 -0.0637\n",
       "6                      -0.3476 -0.34860 2021-05-31  0.0055 -0.3550\n",
       "7                      -0.0510 -0.05190 2021-06-30  0.0222 -0.0136\n",
       "8                       0.1948  0.19410 2021-07-31  0.0227  0.1652\n",
       "9                       0.1425  0.15030 2021-08-31  0.0290  0.0874\n",
       "10                     -0.0876 -0.09560 2021-09-30 -0.0476 -0.1038\n",
       "11                      0.4292  0.40762 2021-10-31  0.0691  0.4679\n",
       "12                     -0.0322 -0.03220 2021-11-30 -0.0083 -0.0698\n",
       "13                     -0.1820 -0.18200 2021-12-31  0.0436 -0.2590\n",
       "14                     -0.2127 -0.21270 2022-01-31 -0.0526 -0.2339\n",
       "15                      0.0691  0.06910 2022-02-28 -0.0314  0.1200\n",
       "16                      0.1895  0.15190 2022-03-31  0.0358  0.0391"
      ]
     },
     "execution_count": 21,
     "metadata": {},
     "output_type": "execute_result"
    }
   ],
   "source": [
    "mr"
   ]
  },
  {
   "cell_type": "code",
   "execution_count": 22,
   "id": "b5567b6c",
   "metadata": {},
   "outputs": [],
   "source": [
    "mr['DATE'] = mr.Date.apply(lambda x: x.strftime(\"%Y-%b\"))"
   ]
  },
  {
   "cell_type": "code",
   "execution_count": 23,
   "id": "55958fdd",
   "metadata": {},
   "outputs": [
    {
     "data": {
      "text/html": [
       "<div>\n",
       "<style scoped>\n",
       "    .dataframe tbody tr th:only-of-type {\n",
       "        vertical-align: middle;\n",
       "    }\n",
       "\n",
       "    .dataframe tbody tr th {\n",
       "        vertical-align: top;\n",
       "    }\n",
       "\n",
       "    .dataframe thead th {\n",
       "        text-align: right;\n",
       "    }\n",
       "</style>\n",
       "<table border=\"1\" class=\"dataframe\">\n",
       "  <thead>\n",
       "    <tr style=\"text-align: right;\">\n",
       "      <th></th>\n",
       "      <th>Leavenworth Digital Growth</th>\n",
       "      <th>BTCUSD</th>\n",
       "      <th>Date</th>\n",
       "      <th>S&amp;P500</th>\n",
       "      <th>GBTC</th>\n",
       "      <th>DATE</th>\n",
       "    </tr>\n",
       "  </thead>\n",
       "  <tbody>\n",
       "    <tr>\n",
       "      <th>0</th>\n",
       "      <td>NaN</td>\n",
       "      <td>NaN</td>\n",
       "      <td>2020-11-30</td>\n",
       "      <td>NaN</td>\n",
       "      <td>NaN</td>\n",
       "      <td>2020-Nov</td>\n",
       "    </tr>\n",
       "    <tr>\n",
       "      <th>1</th>\n",
       "      <td>0.3846</td>\n",
       "      <td>0.46500</td>\n",
       "      <td>2020-12-31</td>\n",
       "      <td>0.0371</td>\n",
       "      <td>0.3797</td>\n",
       "      <td>2020-Dec</td>\n",
       "    </tr>\n",
       "    <tr>\n",
       "      <th>2</th>\n",
       "      <td>0.3606</td>\n",
       "      <td>0.15260</td>\n",
       "      <td>2021-01-31</td>\n",
       "      <td>-0.0111</td>\n",
       "      <td>0.0841</td>\n",
       "      <td>2021-Jan</td>\n",
       "    </tr>\n",
       "    <tr>\n",
       "      <th>3</th>\n",
       "      <td>0.2974</td>\n",
       "      <td>0.32540</td>\n",
       "      <td>2021-02-28</td>\n",
       "      <td>0.0261</td>\n",
       "      <td>0.2453</td>\n",
       "      <td>2021-Feb</td>\n",
       "    </tr>\n",
       "    <tr>\n",
       "      <th>4</th>\n",
       "      <td>0.3380</td>\n",
       "      <td>0.33770</td>\n",
       "      <td>2021-03-31</td>\n",
       "      <td>0.0424</td>\n",
       "      <td>0.1583</td>\n",
       "      <td>2021-Mar</td>\n",
       "    </tr>\n",
       "    <tr>\n",
       "      <th>5</th>\n",
       "      <td>-0.0408</td>\n",
       "      <td>-0.04200</td>\n",
       "      <td>2021-04-30</td>\n",
       "      <td>0.0524</td>\n",
       "      <td>-0.0637</td>\n",
       "      <td>2021-Apr</td>\n",
       "    </tr>\n",
       "    <tr>\n",
       "      <th>6</th>\n",
       "      <td>-0.3476</td>\n",
       "      <td>-0.34860</td>\n",
       "      <td>2021-05-31</td>\n",
       "      <td>0.0055</td>\n",
       "      <td>-0.3550</td>\n",
       "      <td>2021-May</td>\n",
       "    </tr>\n",
       "    <tr>\n",
       "      <th>7</th>\n",
       "      <td>-0.0510</td>\n",
       "      <td>-0.05190</td>\n",
       "      <td>2021-06-30</td>\n",
       "      <td>0.0222</td>\n",
       "      <td>-0.0136</td>\n",
       "      <td>2021-Jun</td>\n",
       "    </tr>\n",
       "    <tr>\n",
       "      <th>8</th>\n",
       "      <td>0.1948</td>\n",
       "      <td>0.19410</td>\n",
       "      <td>2021-07-31</td>\n",
       "      <td>0.0227</td>\n",
       "      <td>0.1652</td>\n",
       "      <td>2021-Jul</td>\n",
       "    </tr>\n",
       "    <tr>\n",
       "      <th>9</th>\n",
       "      <td>0.1425</td>\n",
       "      <td>0.15030</td>\n",
       "      <td>2021-08-31</td>\n",
       "      <td>0.0290</td>\n",
       "      <td>0.0874</td>\n",
       "      <td>2021-Aug</td>\n",
       "    </tr>\n",
       "    <tr>\n",
       "      <th>10</th>\n",
       "      <td>-0.0876</td>\n",
       "      <td>-0.09560</td>\n",
       "      <td>2021-09-30</td>\n",
       "      <td>-0.0476</td>\n",
       "      <td>-0.1038</td>\n",
       "      <td>2021-Sep</td>\n",
       "    </tr>\n",
       "    <tr>\n",
       "      <th>11</th>\n",
       "      <td>0.4292</td>\n",
       "      <td>0.40762</td>\n",
       "      <td>2021-10-31</td>\n",
       "      <td>0.0691</td>\n",
       "      <td>0.4679</td>\n",
       "      <td>2021-Oct</td>\n",
       "    </tr>\n",
       "    <tr>\n",
       "      <th>12</th>\n",
       "      <td>-0.0322</td>\n",
       "      <td>-0.03220</td>\n",
       "      <td>2021-11-30</td>\n",
       "      <td>-0.0083</td>\n",
       "      <td>-0.0698</td>\n",
       "      <td>2021-Nov</td>\n",
       "    </tr>\n",
       "    <tr>\n",
       "      <th>13</th>\n",
       "      <td>-0.1820</td>\n",
       "      <td>-0.18200</td>\n",
       "      <td>2021-12-31</td>\n",
       "      <td>0.0436</td>\n",
       "      <td>-0.2590</td>\n",
       "      <td>2021-Dec</td>\n",
       "    </tr>\n",
       "    <tr>\n",
       "      <th>14</th>\n",
       "      <td>-0.2127</td>\n",
       "      <td>-0.21270</td>\n",
       "      <td>2022-01-31</td>\n",
       "      <td>-0.0526</td>\n",
       "      <td>-0.2339</td>\n",
       "      <td>2022-Jan</td>\n",
       "    </tr>\n",
       "    <tr>\n",
       "      <th>15</th>\n",
       "      <td>0.0691</td>\n",
       "      <td>0.06910</td>\n",
       "      <td>2022-02-28</td>\n",
       "      <td>-0.0314</td>\n",
       "      <td>0.1200</td>\n",
       "      <td>2022-Feb</td>\n",
       "    </tr>\n",
       "    <tr>\n",
       "      <th>16</th>\n",
       "      <td>0.1895</td>\n",
       "      <td>0.15190</td>\n",
       "      <td>2022-03-31</td>\n",
       "      <td>0.0358</td>\n",
       "      <td>0.0391</td>\n",
       "      <td>2022-Mar</td>\n",
       "    </tr>\n",
       "  </tbody>\n",
       "</table>\n",
       "</div>"
      ],
      "text/plain": [
       "    Leavenworth Digital Growth   BTCUSD       Date  S&P500    GBTC      DATE\n",
       "0                          NaN      NaN 2020-11-30     NaN     NaN  2020-Nov\n",
       "1                       0.3846  0.46500 2020-12-31  0.0371  0.3797  2020-Dec\n",
       "2                       0.3606  0.15260 2021-01-31 -0.0111  0.0841  2021-Jan\n",
       "3                       0.2974  0.32540 2021-02-28  0.0261  0.2453  2021-Feb\n",
       "4                       0.3380  0.33770 2021-03-31  0.0424  0.1583  2021-Mar\n",
       "5                      -0.0408 -0.04200 2021-04-30  0.0524 -0.0637  2021-Apr\n",
       "6                      -0.3476 -0.34860 2021-05-31  0.0055 -0.3550  2021-May\n",
       "7                      -0.0510 -0.05190 2021-06-30  0.0222 -0.0136  2021-Jun\n",
       "8                       0.1948  0.19410 2021-07-31  0.0227  0.1652  2021-Jul\n",
       "9                       0.1425  0.15030 2021-08-31  0.0290  0.0874  2021-Aug\n",
       "10                     -0.0876 -0.09560 2021-09-30 -0.0476 -0.1038  2021-Sep\n",
       "11                      0.4292  0.40762 2021-10-31  0.0691  0.4679  2021-Oct\n",
       "12                     -0.0322 -0.03220 2021-11-30 -0.0083 -0.0698  2021-Nov\n",
       "13                     -0.1820 -0.18200 2021-12-31  0.0436 -0.2590  2021-Dec\n",
       "14                     -0.2127 -0.21270 2022-01-31 -0.0526 -0.2339  2022-Jan\n",
       "15                      0.0691  0.06910 2022-02-28 -0.0314  0.1200  2022-Feb\n",
       "16                      0.1895  0.15190 2022-03-31  0.0358  0.0391  2022-Mar"
      ]
     },
     "execution_count": 23,
     "metadata": {},
     "output_type": "execute_result"
    }
   ],
   "source": [
    "mr"
   ]
  },
  {
   "cell_type": "code",
   "execution_count": 24,
   "id": "e07a79d1",
   "metadata": {},
   "outputs": [],
   "source": [
    "#mr['DATE'] = mr.Date.apply(lambda x: x.strftime(\"%Y-%b\"))\n",
    "mrd = mr.set_index('DATE').remove_columns('Date')"
   ]
  },
  {
   "cell_type": "code",
   "execution_count": 25,
   "id": "00ce336e",
   "metadata": {},
   "outputs": [
    {
     "data": {
      "text/html": [
       "<div>\n",
       "<style scoped>\n",
       "    .dataframe tbody tr th:only-of-type {\n",
       "        vertical-align: middle;\n",
       "    }\n",
       "\n",
       "    .dataframe tbody tr th {\n",
       "        vertical-align: top;\n",
       "    }\n",
       "\n",
       "    .dataframe thead th {\n",
       "        text-align: right;\n",
       "    }\n",
       "</style>\n",
       "<table border=\"1\" class=\"dataframe\">\n",
       "  <thead>\n",
       "    <tr style=\"text-align: right;\">\n",
       "      <th>DATE</th>\n",
       "      <th>2020-Dec</th>\n",
       "      <th>2021-Jan</th>\n",
       "      <th>2021-Feb</th>\n",
       "      <th>2021-Mar</th>\n",
       "      <th>2021-Apr</th>\n",
       "      <th>2021-May</th>\n",
       "      <th>2021-Jun</th>\n",
       "      <th>2021-Jul</th>\n",
       "      <th>2021-Aug</th>\n",
       "      <th>2021-Sep</th>\n",
       "      <th>2021-Oct</th>\n",
       "      <th>2021-Nov</th>\n",
       "      <th>2021-Dec</th>\n",
       "      <th>2022-Jan</th>\n",
       "      <th>2022-Feb</th>\n",
       "      <th>2022-Mar</th>\n",
       "    </tr>\n",
       "  </thead>\n",
       "  <tbody>\n",
       "    <tr>\n",
       "      <th>Leavenworth Digital Growth</th>\n",
       "      <td>0.3846</td>\n",
       "      <td>0.3606</td>\n",
       "      <td>0.2974</td>\n",
       "      <td>0.3380</td>\n",
       "      <td>-0.0408</td>\n",
       "      <td>-0.3476</td>\n",
       "      <td>-0.0510</td>\n",
       "      <td>0.1948</td>\n",
       "      <td>0.1425</td>\n",
       "      <td>-0.0876</td>\n",
       "      <td>0.42920</td>\n",
       "      <td>-0.0322</td>\n",
       "      <td>-0.1820</td>\n",
       "      <td>-0.2127</td>\n",
       "      <td>0.0691</td>\n",
       "      <td>0.1895</td>\n",
       "    </tr>\n",
       "    <tr>\n",
       "      <th>BTCUSD</th>\n",
       "      <td>0.4650</td>\n",
       "      <td>0.1526</td>\n",
       "      <td>0.3254</td>\n",
       "      <td>0.3377</td>\n",
       "      <td>-0.0420</td>\n",
       "      <td>-0.3486</td>\n",
       "      <td>-0.0519</td>\n",
       "      <td>0.1941</td>\n",
       "      <td>0.1503</td>\n",
       "      <td>-0.0956</td>\n",
       "      <td>0.40762</td>\n",
       "      <td>-0.0322</td>\n",
       "      <td>-0.1820</td>\n",
       "      <td>-0.2127</td>\n",
       "      <td>0.0691</td>\n",
       "      <td>0.1519</td>\n",
       "    </tr>\n",
       "    <tr>\n",
       "      <th>S&amp;P500</th>\n",
       "      <td>0.0371</td>\n",
       "      <td>-0.0111</td>\n",
       "      <td>0.0261</td>\n",
       "      <td>0.0424</td>\n",
       "      <td>0.0524</td>\n",
       "      <td>0.0055</td>\n",
       "      <td>0.0222</td>\n",
       "      <td>0.0227</td>\n",
       "      <td>0.0290</td>\n",
       "      <td>-0.0476</td>\n",
       "      <td>0.06910</td>\n",
       "      <td>-0.0083</td>\n",
       "      <td>0.0436</td>\n",
       "      <td>-0.0526</td>\n",
       "      <td>-0.0314</td>\n",
       "      <td>0.0358</td>\n",
       "    </tr>\n",
       "    <tr>\n",
       "      <th>GBTC</th>\n",
       "      <td>0.3797</td>\n",
       "      <td>0.0841</td>\n",
       "      <td>0.2453</td>\n",
       "      <td>0.1583</td>\n",
       "      <td>-0.0637</td>\n",
       "      <td>-0.3550</td>\n",
       "      <td>-0.0136</td>\n",
       "      <td>0.1652</td>\n",
       "      <td>0.0874</td>\n",
       "      <td>-0.1038</td>\n",
       "      <td>0.46790</td>\n",
       "      <td>-0.0698</td>\n",
       "      <td>-0.2590</td>\n",
       "      <td>-0.2339</td>\n",
       "      <td>0.1200</td>\n",
       "      <td>0.0391</td>\n",
       "    </tr>\n",
       "  </tbody>\n",
       "</table>\n",
       "</div>"
      ],
      "text/plain": [
       "DATE                        2020-Dec  2021-Jan  2021-Feb  2021-Mar  2021-Apr  \\\n",
       "Leavenworth Digital Growth    0.3846    0.3606    0.2974    0.3380   -0.0408   \n",
       "BTCUSD                        0.4650    0.1526    0.3254    0.3377   -0.0420   \n",
       "S&P500                        0.0371   -0.0111    0.0261    0.0424    0.0524   \n",
       "GBTC                          0.3797    0.0841    0.2453    0.1583   -0.0637   \n",
       "\n",
       "DATE                        2021-May  2021-Jun  2021-Jul  2021-Aug  2021-Sep  \\\n",
       "Leavenworth Digital Growth   -0.3476   -0.0510    0.1948    0.1425   -0.0876   \n",
       "BTCUSD                       -0.3486   -0.0519    0.1941    0.1503   -0.0956   \n",
       "S&P500                        0.0055    0.0222    0.0227    0.0290   -0.0476   \n",
       "GBTC                         -0.3550   -0.0136    0.1652    0.0874   -0.1038   \n",
       "\n",
       "DATE                        2021-Oct  2021-Nov  2021-Dec  2022-Jan  2022-Feb  \\\n",
       "Leavenworth Digital Growth   0.42920   -0.0322   -0.1820   -0.2127    0.0691   \n",
       "BTCUSD                       0.40762   -0.0322   -0.1820   -0.2127    0.0691   \n",
       "S&P500                       0.06910   -0.0083    0.0436   -0.0526   -0.0314   \n",
       "GBTC                         0.46790   -0.0698   -0.2590   -0.2339    0.1200   \n",
       "\n",
       "DATE                        2022-Mar  \n",
       "Leavenworth Digital Growth    0.1895  \n",
       "BTCUSD                        0.1519  \n",
       "S&P500                        0.0358  \n",
       "GBTC                          0.0391  "
      ]
     },
     "execution_count": 25,
     "metadata": {},
     "output_type": "execute_result"
    }
   ],
   "source": [
    "mrd.dropna().T"
   ]
  },
  {
   "cell_type": "code",
   "execution_count": 26,
   "id": "8e5dc321",
   "metadata": {},
   "outputs": [],
   "source": [
    "mr = mr.set_index('Date')\n",
    "mrx = mr.dropna().set_index('DATE').stack().reset_index().rename_column('level_1','TICKER').rename_column(0, 'VALUE')\n",
    "mrx['RETURN'] = mrx.VALUE*100"
   ]
  },
  {
   "cell_type": "markdown",
   "id": "c67f800b",
   "metadata": {},
   "source": [
    "mrx"
   ]
  },
  {
   "cell_type": "code",
   "execution_count": 27,
   "id": "b103ea8d",
   "metadata": {},
   "outputs": [],
   "source": [
    "from seaborn import set_context, set_style\n",
    "set_context(\"notebook\", font_scale = 2.5, rc = {\"lines.linewidth\":1})"
   ]
  },
  {
   "cell_type": "code",
   "execution_count": 28,
   "id": "f0542e11",
   "metadata": {},
   "outputs": [],
   "source": [
    "def change_width(ax, new_value) :\n",
    "    for patch in ax.patches :\n",
    "        current_width = patch.get_width()\n",
    "        diff = current_width - new_value\n",
    "\n",
    "        # we change the bar width\n",
    "        patch.set_width(new_value)\n",
    "\n",
    "        # we recenter the bar\n",
    "        #patch.set_x(patch.get_x() + diff * .5)"
   ]
  },
  {
   "cell_type": "code",
   "execution_count": 29,
   "id": "a0914ece",
   "metadata": {
    "scrolled": false
   },
   "outputs": [
    {
     "data": {
      "image/png": "[encoded data removed]",
      "text/plain": [
       "<Figure size 2304x864 with 1 Axes>"
      ]
     },
     "metadata": {},
     "output_type": "display_data"
    }
   ],
   "source": [
    "f, ax = plt.subplots(figsize = (16*image_scale, 6*image_scale))\n",
    "ax = sns.barplot(data = mrx, x = 'DATE', y = 'RETURN', hue = 'TICKER')\n",
    "ax.yaxis.set_major_formatter(mtick.PercentFormatter())\n",
    "ax.set_xticks(np.arange(0.5, len(mrx.DATE.unique()), 1))\n",
    "ax.set_xticklabels(ax.xaxis.get_majorticklabels())\n",
    "plt.legend(bbox_to_anchor = (1,1))\n",
    "plt.xticks(rotation = 0)\n",
    "ax.grid(True)\n",
    "lc.whiten_grid(f, ax)\n",
    "change_width(ax, .12)\n",
    "plt.title('Monthly performance'.upper(), color = params['title_color']);"
   ]
  },
  {
   "cell_type": "markdown",
   "id": "8f93c50e",
   "metadata": {},
   "source": [
    "# YTD returns"
   ]
  },
  {
   "cell_type": "markdown",
   "id": "61764182",
   "metadata": {},
   "source": [
    "Since inception"
   ]
  },
  {
   "cell_type": "code",
   "execution_count": 30,
   "id": "77333fc9",
   "metadata": {},
   "outputs": [
    {
     "data": {
      "text/html": [
       "<div>\n",
       "<style scoped>\n",
       "    .dataframe tbody tr th:only-of-type {\n",
       "        vertical-align: middle;\n",
       "    }\n",
       "\n",
       "    .dataframe tbody tr th {\n",
       "        vertical-align: top;\n",
       "    }\n",
       "\n",
       "    .dataframe thead th {\n",
       "        text-align: right;\n",
       "    }\n",
       "</style>\n",
       "<table border=\"1\" class=\"dataframe\">\n",
       "  <thead>\n",
       "    <tr style=\"text-align: right;\">\n",
       "      <th></th>\n",
       "      <th>Leavenworth Digital Growth</th>\n",
       "      <th>BTCUSD</th>\n",
       "    </tr>\n",
       "    <tr>\n",
       "      <th>Date</th>\n",
       "      <th></th>\n",
       "      <th></th>\n",
       "    </tr>\n",
       "  </thead>\n",
       "  <tbody>\n",
       "    <tr>\n",
       "      <th>2020-11-30</th>\n",
       "      <td>NaN</td>\n",
       "      <td>NaN</td>\n",
       "    </tr>\n",
       "    <tr>\n",
       "      <th>2020-12-31</th>\n",
       "      <td>38.46</td>\n",
       "      <td>46.500</td>\n",
       "    </tr>\n",
       "    <tr>\n",
       "      <th>2021-01-31</th>\n",
       "      <td>36.06</td>\n",
       "      <td>15.260</td>\n",
       "    </tr>\n",
       "    <tr>\n",
       "      <th>2021-02-28</th>\n",
       "      <td>29.74</td>\n",
       "      <td>32.540</td>\n",
       "    </tr>\n",
       "    <tr>\n",
       "      <th>2021-03-31</th>\n",
       "      <td>33.80</td>\n",
       "      <td>33.770</td>\n",
       "    </tr>\n",
       "    <tr>\n",
       "      <th>2021-04-30</th>\n",
       "      <td>-4.08</td>\n",
       "      <td>-4.200</td>\n",
       "    </tr>\n",
       "    <tr>\n",
       "      <th>2021-05-31</th>\n",
       "      <td>-34.76</td>\n",
       "      <td>-34.860</td>\n",
       "    </tr>\n",
       "    <tr>\n",
       "      <th>2021-06-30</th>\n",
       "      <td>-5.10</td>\n",
       "      <td>-5.190</td>\n",
       "    </tr>\n",
       "    <tr>\n",
       "      <th>2021-07-31</th>\n",
       "      <td>19.48</td>\n",
       "      <td>19.410</td>\n",
       "    </tr>\n",
       "    <tr>\n",
       "      <th>2021-08-31</th>\n",
       "      <td>14.25</td>\n",
       "      <td>15.030</td>\n",
       "    </tr>\n",
       "    <tr>\n",
       "      <th>2021-09-30</th>\n",
       "      <td>-8.76</td>\n",
       "      <td>-9.560</td>\n",
       "    </tr>\n",
       "    <tr>\n",
       "      <th>2021-10-31</th>\n",
       "      <td>42.92</td>\n",
       "      <td>40.762</td>\n",
       "    </tr>\n",
       "    <tr>\n",
       "      <th>2021-11-30</th>\n",
       "      <td>-3.22</td>\n",
       "      <td>-3.220</td>\n",
       "    </tr>\n",
       "    <tr>\n",
       "      <th>2021-12-31</th>\n",
       "      <td>-18.20</td>\n",
       "      <td>-18.200</td>\n",
       "    </tr>\n",
       "    <tr>\n",
       "      <th>2022-01-31</th>\n",
       "      <td>-21.27</td>\n",
       "      <td>-21.270</td>\n",
       "    </tr>\n",
       "    <tr>\n",
       "      <th>2022-02-28</th>\n",
       "      <td>6.91</td>\n",
       "      <td>6.910</td>\n",
       "    </tr>\n",
       "    <tr>\n",
       "      <th>2022-03-31</th>\n",
       "      <td>18.95</td>\n",
       "      <td>15.190</td>\n",
       "    </tr>\n",
       "  </tbody>\n",
       "</table>\n",
       "</div>"
      ],
      "text/plain": [
       "            Leavenworth Digital Growth  BTCUSD\n",
       "Date                                          \n",
       "2020-11-30                         NaN     NaN\n",
       "2020-12-31                       38.46  46.500\n",
       "2021-01-31                       36.06  15.260\n",
       "2021-02-28                       29.74  32.540\n",
       "2021-03-31                       33.80  33.770\n",
       "2021-04-30                       -4.08  -4.200\n",
       "2021-05-31                      -34.76 -34.860\n",
       "2021-06-30                       -5.10  -5.190\n",
       "2021-07-31                       19.48  19.410\n",
       "2021-08-31                       14.25  15.030\n",
       "2021-09-30                       -8.76  -9.560\n",
       "2021-10-31                       42.92  40.762\n",
       "2021-11-30                       -3.22  -3.220\n",
       "2021-12-31                      -18.20 -18.200\n",
       "2022-01-31                      -21.27 -21.270\n",
       "2022-02-28                        6.91   6.910\n",
       "2022-03-31                       18.95  15.190"
      ]
     },
     "execution_count": 30,
     "metadata": {},
     "output_type": "execute_result"
    }
   ],
   "source": [
    "mr[['Leavenworth Digital Growth', 'BTCUSD']]*100"
   ]
  },
  {
   "cell_type": "markdown",
   "id": "4a825de0",
   "metadata": {},
   "source": [
    "Since Inception"
   ]
  },
  {
   "cell_type": "code",
   "execution_count": 31,
   "id": "4762ed8b",
   "metadata": {
    "scrolled": true
   },
   "outputs": [
    {
     "data": {
      "text/plain": [
       "Date\n",
       "2022-03-31    174.009608\n",
       "Name: Leavenworth Digital Growth, dtype: float64"
      ]
     },
     "execution_count": 31,
     "metadata": {},
     "output_type": "execute_result"
    }
   ],
   "source": [
    "((mr['Leavenworth Digital Growth']+1).cumprod()-1).tail(1)*100"
   ]
  },
  {
   "cell_type": "markdown",
   "id": "46b2b2d5",
   "metadata": {},
   "source": [
    "last 1Y"
   ]
  },
  {
   "cell_type": "code",
   "execution_count": 32,
   "id": "220ae333",
   "metadata": {},
   "outputs": [
    {
     "data": {
      "text/plain": [
       "Date\n",
       "2022-03-31   -16.212161\n",
       "Name: Leavenworth Digital Growth, dtype: float64"
      ]
     },
     "execution_count": 32,
     "metadata": {},
     "output_type": "execute_result"
    }
   ],
   "source": [
    "((mr['Leavenworth Digital Growth'][-12:]+1).cumprod()-1).tail(1)*100"
   ]
  },
  {
   "cell_type": "markdown",
   "id": "746fb964",
   "metadata": {},
   "source": [
    "last 3M"
   ]
  },
  {
   "cell_type": "code",
   "execution_count": 33,
   "id": "9e07caa4",
   "metadata": {},
   "outputs": [
    {
     "data": {
      "text/plain": [
       "Date\n",
       "2022-03-31    0.120504\n",
       "Name: Leavenworth Digital Growth, dtype: float64"
      ]
     },
     "execution_count": 33,
     "metadata": {},
     "output_type": "execute_result"
    }
   ],
   "source": [
    "((mr['Leavenworth Digital Growth'][-3:]+1).cumprod()-1).tail(1)*100"
   ]
  },
  {
   "cell_type": "markdown",
   "id": "f6c0cf8f",
   "metadata": {},
   "source": [
    "Benchmark"
   ]
  },
  {
   "cell_type": "markdown",
   "id": "ba53805e",
   "metadata": {},
   "source": [
    "Since Inception"
   ]
  },
  {
   "cell_type": "code",
   "execution_count": 34,
   "id": "fdc65e2f",
   "metadata": {},
   "outputs": [
    {
     "data": {
      "text/plain": [
       "Date\n",
       "2022-03-31    137.738449\n",
       "Name: BTCUSD, dtype: float64"
      ]
     },
     "execution_count": 34,
     "metadata": {},
     "output_type": "execute_result"
    }
   ],
   "source": [
    "((mr['BTCUSD']+1).cumprod()-1).tail(1)*100"
   ]
  },
  {
   "cell_type": "code",
   "execution_count": 35,
   "id": "e94415a5",
   "metadata": {},
   "outputs": [
    {
     "data": {
      "text/plain": [
       "Date\n",
       "2022-03-31   -3.044297\n",
       "Name: BTCUSD, dtype: float64"
      ]
     },
     "execution_count": 35,
     "metadata": {},
     "output_type": "execute_result"
    }
   ],
   "source": [
    "((mr['BTCUSD'][-3:]+1).cumprod()-1).tail(1)*100"
   ]
  },
  {
   "cell_type": "markdown",
   "id": "b1dc8e27",
   "metadata": {},
   "source": [
    "Last 1Y"
   ]
  },
  {
   "cell_type": "code",
   "execution_count": 36,
   "id": "7317f0a0",
   "metadata": {},
   "outputs": [
    {
     "data": {
      "text/plain": [
       "Date\n",
       "2022-03-31   -20.58958\n",
       "Name: BTCUSD, dtype: float64"
      ]
     },
     "execution_count": 36,
     "metadata": {},
     "output_type": "execute_result"
    }
   ],
   "source": [
    "((mr['BTCUSD'][-12:]+1).cumprod()-1).tail(1)*100"
   ]
  },
  {
   "cell_type": "markdown",
   "id": "fb8da7e0",
   "metadata": {},
   "source": [
    "YTD"
   ]
  },
  {
   "cell_type": "code",
   "execution_count": 37,
   "id": "d66ea904",
   "metadata": {},
   "outputs": [],
   "source": [
    "start_month_ = 14"
   ]
  },
  {
   "cell_type": "code",
   "execution_count": 38,
   "id": "e17b1bcc",
   "metadata": {},
   "outputs": [
    {
     "data": {
      "text/plain": [
       "Date\n",
       "2022-01-31   -0.2127\n",
       "2022-02-28    0.0691\n",
       "2022-03-31    0.1895\n",
       "Name: Leavenworth Digital Growth, dtype: float64"
      ]
     },
     "execution_count": 38,
     "metadata": {},
     "output_type": "execute_result"
    }
   ],
   "source": [
    "(mr['Leavenworth Digital Growth'][start_month_:])"
   ]
  },
  {
   "cell_type": "code",
   "execution_count": 39,
   "id": "9ea3b0e0",
   "metadata": {},
   "outputs": [],
   "source": [
    "ldgs_ytd = ((mr['Leavenworth Digital Growth'][start_month_:]+1).cumprod()-1).tail(1).values[0]"
   ]
  },
  {
   "cell_type": "code",
   "execution_count": 40,
   "id": "f859dbb8",
   "metadata": {},
   "outputs": [],
   "source": [
    "btc_ytd = ((mr['BTCUSD'][start_month_:]+1).cumprod()-1).tail(1).values[0]"
   ]
  },
  {
   "cell_type": "code",
   "execution_count": 41,
   "id": "69dcc3ff",
   "metadata": {},
   "outputs": [
    {
     "data": {
      "text/plain": [
       "0.12050404849999197"
      ]
     },
     "execution_count": 41,
     "metadata": {},
     "output_type": "execute_result"
    }
   ],
   "source": [
    "ldgs_ytd*100"
   ]
  },
  {
   "cell_type": "code",
   "execution_count": 42,
   "id": "7143f92d",
   "metadata": {},
   "outputs": [
    {
     "data": {
      "text/plain": [
       "-0.030442970883000076"
      ]
     },
     "execution_count": 42,
     "metadata": {},
     "output_type": "execute_result"
    }
   ],
   "source": [
    "btc_ytd"
   ]
  },
  {
   "cell_type": "code",
   "execution_count": 43,
   "id": "7e5e5c42",
   "metadata": {},
   "outputs": [],
   "source": [
    "end_date = '2022-03-31'"
   ]
  },
  {
   "cell_type": "code",
   "execution_count": 44,
   "id": "395df32c",
   "metadata": {},
   "outputs": [
    {
     "data": {
      "text/plain": [
       "['^GSPC', 'GBTC']"
      ]
     },
     "execution_count": 44,
     "metadata": {},
     "output_type": "execute_result"
    }
   ],
   "source": [
    "tickers"
   ]
  },
  {
   "cell_type": "code",
   "execution_count": 45,
   "id": "4628bd90",
   "metadata": {},
   "outputs": [
    {
     "data": {
      "text/html": [
       "<div>\n",
       "<style scoped>\n",
       "    .dataframe tbody tr th:only-of-type {\n",
       "        vertical-align: middle;\n",
       "    }\n",
       "\n",
       "    .dataframe tbody tr th {\n",
       "        vertical-align: top;\n",
       "    }\n",
       "\n",
       "    .dataframe thead th {\n",
       "        text-align: right;\n",
       "    }\n",
       "</style>\n",
       "<table border=\"1\" class=\"dataframe\">\n",
       "  <thead>\n",
       "    <tr style=\"text-align: right;\">\n",
       "      <th>TICKER</th>\n",
       "      <th>GBTC</th>\n",
       "      <th>^GSPC</th>\n",
       "    </tr>\n",
       "    <tr>\n",
       "      <th>Date</th>\n",
       "      <th></th>\n",
       "      <th></th>\n",
       "    </tr>\n",
       "  </thead>\n",
       "  <tbody>\n",
       "    <tr>\n",
       "      <th>2021-04-30</th>\n",
       "      <td>46.849998</td>\n",
       "      <td>4181.169922</td>\n",
       "    </tr>\n",
       "    <tr>\n",
       "      <th>2021-05-31</th>\n",
       "      <td>30.219999</td>\n",
       "      <td>4204.109863</td>\n",
       "    </tr>\n",
       "    <tr>\n",
       "      <th>2021-06-30</th>\n",
       "      <td>29.809999</td>\n",
       "      <td>4297.500000</td>\n",
       "    </tr>\n",
       "    <tr>\n",
       "      <th>2021-07-31</th>\n",
       "      <td>34.735001</td>\n",
       "      <td>4395.259766</td>\n",
       "    </tr>\n",
       "    <tr>\n",
       "      <th>2021-08-31</th>\n",
       "      <td>37.770000</td>\n",
       "      <td>4522.680176</td>\n",
       "    </tr>\n",
       "    <tr>\n",
       "      <th>2021-09-30</th>\n",
       "      <td>33.849998</td>\n",
       "      <td>4307.540039</td>\n",
       "    </tr>\n",
       "    <tr>\n",
       "      <th>2021-10-31</th>\n",
       "      <td>49.689999</td>\n",
       "      <td>4605.379883</td>\n",
       "    </tr>\n",
       "    <tr>\n",
       "      <th>2021-11-30</th>\n",
       "      <td>46.220001</td>\n",
       "      <td>4567.000000</td>\n",
       "    </tr>\n",
       "    <tr>\n",
       "      <th>2021-12-31</th>\n",
       "      <td>34.250000</td>\n",
       "      <td>4766.180176</td>\n",
       "    </tr>\n",
       "    <tr>\n",
       "      <th>2022-01-31</th>\n",
       "      <td>26.240000</td>\n",
       "      <td>4515.549805</td>\n",
       "    </tr>\n",
       "    <tr>\n",
       "      <th>2022-02-28</th>\n",
       "      <td>29.389999</td>\n",
       "      <td>4373.939941</td>\n",
       "    </tr>\n",
       "    <tr>\n",
       "      <th>2022-03-31</th>\n",
       "      <td>30.540001</td>\n",
       "      <td>4530.410156</td>\n",
       "    </tr>\n",
       "  </tbody>\n",
       "</table>\n",
       "</div>"
      ],
      "text/plain": [
       "TICKER           GBTC        ^GSPC\n",
       "Date                              \n",
       "2021-04-30  46.849998  4181.169922\n",
       "2021-05-31  30.219999  4204.109863\n",
       "2021-06-30  29.809999  4297.500000\n",
       "2021-07-31  34.735001  4395.259766\n",
       "2021-08-31  37.770000  4522.680176\n",
       "2021-09-30  33.849998  4307.540039\n",
       "2021-10-31  49.689999  4605.379883\n",
       "2021-11-30  46.220001  4567.000000\n",
       "2021-12-31  34.250000  4766.180176\n",
       "2022-01-31  26.240000  4515.549805\n",
       "2022-02-28  29.389999  4373.939941\n",
       "2022-03-31  30.540001  4530.410156"
      ]
     },
     "execution_count": 45,
     "metadata": {},
     "output_type": "execute_result"
    }
   ],
   "source": [
    "pivot.resample('M').last().tail(12)"
   ]
  },
  {
   "cell_type": "markdown",
   "id": "7dd4b33f",
   "metadata": {},
   "source": [
    "Get last 12 months of data in terms of last 1Y returns"
   ]
  },
  {
   "cell_type": "code",
   "execution_count": 46,
   "id": "1cb937c1",
   "metadata": {},
   "outputs": [],
   "source": [
    "l1y = pd.DataFrame()\n",
    "for ticker in tickers:\n",
    "    s = returns(pivot.loc[start_date: end_date], ticker, period = 'year')\n",
    "    l1y[ticker] = s"
   ]
  },
  {
   "cell_type": "code",
   "execution_count": 47,
   "id": "9f188b99",
   "metadata": {},
   "outputs": [],
   "source": [
    "ytdr = pd.DataFrame()\n",
    "for c in l1y.columns.tolist():\n",
    "    s = (l1y[c][1:]+1).cumprod()-1\n",
    "    ytdr[c] = s.tail(1)"
   ]
  },
  {
   "cell_type": "code",
   "execution_count": 48,
   "id": "e2c453eb",
   "metadata": {},
   "outputs": [
    {
     "data": {
      "text/html": [
       "<div>\n",
       "<style scoped>\n",
       "    .dataframe tbody tr th:only-of-type {\n",
       "        vertical-align: middle;\n",
       "    }\n",
       "\n",
       "    .dataframe tbody tr th {\n",
       "        vertical-align: top;\n",
       "    }\n",
       "\n",
       "    .dataframe thead th {\n",
       "        text-align: right;\n",
       "    }\n",
       "</style>\n",
       "<table border=\"1\" class=\"dataframe\">\n",
       "  <thead>\n",
       "    <tr style=\"text-align: right;\">\n",
       "      <th></th>\n",
       "      <th>^GSPC</th>\n",
       "      <th>GBTC</th>\n",
       "    </tr>\n",
       "    <tr>\n",
       "      <th>Date</th>\n",
       "      <th></th>\n",
       "      <th></th>\n",
       "    </tr>\n",
       "  </thead>\n",
       "  <tbody>\n",
       "    <tr>\n",
       "      <th>2022-12-31</th>\n",
       "      <td>-0.0495</td>\n",
       "      <td>-0.1083</td>\n",
       "    </tr>\n",
       "  </tbody>\n",
       "</table>\n",
       "</div>"
      ],
      "text/plain": [
       "             ^GSPC    GBTC\n",
       "Date                      \n",
       "2022-12-31 -0.0495 -0.1083"
      ]
     },
     "execution_count": 48,
     "metadata": {},
     "output_type": "execute_result"
    }
   ],
   "source": [
    "ytdr"
   ]
  },
  {
   "cell_type": "code",
   "execution_count": 49,
   "id": "c58b8d90",
   "metadata": {},
   "outputs": [],
   "source": [
    "ytdr = ytdr.dropna().reset_index()\n",
    "ytdr.rename_column('Date', 'YTD')\n",
    "ytdr = ytdr.clean_names(case_type = 'upper')\n",
    "ytdr.loc[0, 'YTD'] = 'YTD'\n",
    "ytdr = ytdr.set_index('YTD')"
   ]
  },
  {
   "cell_type": "code",
   "execution_count": 50,
   "id": "a8e4b3d3",
   "metadata": {},
   "outputs": [],
   "source": [
    "ytdr = ytdr.rename_column('^GSPC', 'S&P500')"
   ]
  },
  {
   "cell_type": "code",
   "execution_count": 51,
   "id": "d46106e1",
   "metadata": {},
   "outputs": [
    {
     "data": {
      "text/html": [
       "<div>\n",
       "<style scoped>\n",
       "    .dataframe tbody tr th:only-of-type {\n",
       "        vertical-align: middle;\n",
       "    }\n",
       "\n",
       "    .dataframe tbody tr th {\n",
       "        vertical-align: top;\n",
       "    }\n",
       "\n",
       "    .dataframe thead th {\n",
       "        text-align: right;\n",
       "    }\n",
       "</style>\n",
       "<table border=\"1\" class=\"dataframe\">\n",
       "  <thead>\n",
       "    <tr style=\"text-align: right;\">\n",
       "      <th></th>\n",
       "      <th>DATE</th>\n",
       "      <th>S&amp;P500</th>\n",
       "      <th>GBTC</th>\n",
       "    </tr>\n",
       "    <tr>\n",
       "      <th>YTD</th>\n",
       "      <th></th>\n",
       "      <th></th>\n",
       "      <th></th>\n",
       "    </tr>\n",
       "  </thead>\n",
       "  <tbody>\n",
       "    <tr>\n",
       "      <th>YTD</th>\n",
       "      <td>2022-12-31</td>\n",
       "      <td>-0.0495</td>\n",
       "      <td>-0.1083</td>\n",
       "    </tr>\n",
       "  </tbody>\n",
       "</table>\n",
       "</div>"
      ],
      "text/plain": [
       "          DATE  S&P500    GBTC\n",
       "YTD                           \n",
       "YTD 2022-12-31 -0.0495 -0.1083"
      ]
     },
     "execution_count": 51,
     "metadata": {},
     "output_type": "execute_result"
    }
   ],
   "source": [
    "ytdr"
   ]
  },
  {
   "cell_type": "code",
   "execution_count": 52,
   "id": "b5739523",
   "metadata": {},
   "outputs": [
    {
     "data": {
      "text/plain": [
       "-0.14254522769806624"
      ]
     },
     "execution_count": 52,
     "metadata": {},
     "output_type": "execute_result"
    }
   ],
   "source": [
    "(27.49-32.06)/32.06"
   ]
  },
  {
   "cell_type": "code",
   "execution_count": 68,
   "id": "bd6726dd",
   "metadata": {},
   "outputs": [
    {
     "data": {
      "text/plain": [
       "0.09959999999999994"
      ]
     },
     "execution_count": 68,
     "metadata": {},
     "output_type": "execute_result"
    }
   ],
   "source": [
    "(27.49-25)/25"
   ]
  },
  {
   "cell_type": "code",
   "execution_count": 53,
   "id": "f45300bf",
   "metadata": {},
   "outputs": [],
   "source": [
    "ytdr['Leavenworth Digital Growth'] = ldgs_ytd\n",
    "ytdr['BTCUSD'] = btc_ytd\n",
    "ytdr['IDX'] = -0.1425"
   ]
  },
  {
   "cell_type": "code",
   "execution_count": 54,
   "id": "2b48470d",
   "metadata": {},
   "outputs": [],
   "source": [
    "ytdr = ytdr[['Leavenworth Digital Growth', 'BTCUSD', 'S&P500', 'IDX', 'GBTC']]"
   ]
  },
  {
   "cell_type": "code",
   "execution_count": 55,
   "id": "875daea3",
   "metadata": {},
   "outputs": [],
   "source": [
    "ytdrx = ytdr.stack().reset_index().rename_column('level_1','TICKER').rename_column(0, 'VALUE')\n",
    "ytdrx['RETURN'] = ytdrx.VALUE*100"
   ]
  },
  {
   "cell_type": "code",
   "execution_count": 56,
   "id": "1bc60ff7",
   "metadata": {},
   "outputs": [
    {
     "data": {
      "text/html": [
       "<div>\n",
       "<style scoped>\n",
       "    .dataframe tbody tr th:only-of-type {\n",
       "        vertical-align: middle;\n",
       "    }\n",
       "\n",
       "    .dataframe tbody tr th {\n",
       "        vertical-align: top;\n",
       "    }\n",
       "\n",
       "    .dataframe thead th {\n",
       "        text-align: right;\n",
       "    }\n",
       "</style>\n",
       "<table border=\"1\" class=\"dataframe\">\n",
       "  <thead>\n",
       "    <tr style=\"text-align: right;\">\n",
       "      <th></th>\n",
       "      <th>YTD</th>\n",
       "      <th>TICKER</th>\n",
       "      <th>VALUE</th>\n",
       "      <th>RETURN</th>\n",
       "    </tr>\n",
       "  </thead>\n",
       "  <tbody>\n",
       "    <tr>\n",
       "      <th>0</th>\n",
       "      <td>YTD</td>\n",
       "      <td>Leavenworth Digital Growth</td>\n",
       "      <td>0.001205</td>\n",
       "      <td>0.120504</td>\n",
       "    </tr>\n",
       "    <tr>\n",
       "      <th>1</th>\n",
       "      <td>YTD</td>\n",
       "      <td>BTCUSD</td>\n",
       "      <td>-0.030443</td>\n",
       "      <td>-3.044297</td>\n",
       "    </tr>\n",
       "    <tr>\n",
       "      <th>2</th>\n",
       "      <td>YTD</td>\n",
       "      <td>S&amp;P500</td>\n",
       "      <td>-0.049500</td>\n",
       "      <td>-4.950000</td>\n",
       "    </tr>\n",
       "    <tr>\n",
       "      <th>3</th>\n",
       "      <td>YTD</td>\n",
       "      <td>IDX</td>\n",
       "      <td>-0.142500</td>\n",
       "      <td>-14.250000</td>\n",
       "    </tr>\n",
       "    <tr>\n",
       "      <th>4</th>\n",
       "      <td>YTD</td>\n",
       "      <td>GBTC</td>\n",
       "      <td>-0.108300</td>\n",
       "      <td>-10.830000</td>\n",
       "    </tr>\n",
       "  </tbody>\n",
       "</table>\n",
       "</div>"
      ],
      "text/plain": [
       "   YTD                      TICKER     VALUE     RETURN\n",
       "0  YTD  Leavenworth Digital Growth  0.001205   0.120504\n",
       "1  YTD                      BTCUSD -0.030443  -3.044297\n",
       "2  YTD                      S&P500 -0.049500  -4.950000\n",
       "3  YTD                         IDX -0.142500 -14.250000\n",
       "4  YTD                        GBTC -0.108300 -10.830000"
      ]
     },
     "execution_count": 56,
     "metadata": {},
     "output_type": "execute_result"
    }
   ],
   "source": [
    "ytdrx"
   ]
  },
  {
   "cell_type": "markdown",
   "id": "c4e8e974",
   "metadata": {},
   "source": [
    "YTD as of Aug 17, \n",
    "GBTC is up 7%\n",
    "BRR is up 57.26%\n",
    "LCDG is up > 70%"
   ]
  },
  {
   "cell_type": "code",
   "execution_count": 57,
   "id": "57c1a806",
   "metadata": {},
   "outputs": [],
   "source": [
    "if image_scale == 1:\n",
    "    fxy = (10,4)\n",
    "else:\n",
    "    fxy = (10*image_scale, 6*image_scale)"
   ]
  },
  {
   "cell_type": "code",
   "execution_count": 58,
   "id": "adea4466",
   "metadata": {},
   "outputs": [],
   "source": [
    "dt = now.date().strftime('%b %d, %Y')"
   ]
  },
  {
   "cell_type": "code",
   "execution_count": 67,
   "id": "edf07746",
   "metadata": {
    "scrolled": false
   },
   "outputs": [
    {
     "data": {
      "image/png": "[encoded data removed]",
      "text/plain": [
       "<Figure size 1440x864 with 1 Axes>"
      ]
     },
     "metadata": {},
     "output_type": "display_data"
    }
   ],
   "source": [
    "f, ax = plt.subplots(figsize = fxy)\n",
    "ax = sns.barplot(data = ytdrx, x = 'YTD', y = 'RETURN', hue = 'TICKER')\n",
    "ax.yaxis.set_major_formatter(mtick.PercentFormatter())\n",
    "plt.legend(bbox_to_anchor = (1.37,1))\n",
    "plt.xticks(rotation = 0)\n",
    "plt.xlabel('')\n",
    "ax.set(xticklabels=[]);\n",
    "# widthbars = [0.05, 0.05, 0.05, 0.05, 0.05]\n",
    "#for bar, nw in zip(ax.patches, widthbars):\n",
    "#    x = bar.get_x()\n",
    "#    width = bar.get_width()\n",
    "#    center = x+width/2\n",
    "#    bar.set_x(center - nw/2)\n",
    "#    bar.set_width(nw)\n",
    "lc.whiten_grid(f, ax)\n",
    "#ax.spines['top'].set_color('#2e4959')\n",
    "#ax.spines['top'].set_linewidth(2)\n",
    "change_width(ax, .1)\n",
    "plt.ylim(-15, 7)\n",
    "bars = list(range(0,len(ax.containers)))\n",
    "for bar in bars:\n",
    "    ax.bar_label(ax.containers[bar],  fmt='%.2f')\n",
    "#plt.title('YTD PERFORMANCE as of %s'%dt.upper(), color = 'black');\n",
    "plt.title('YTD PERFORMANCE as of Q1, 2022'.upper(), color = 'black');\n",
    "#plt.title('January, 2021 performance'.upper(), x=0.07, y=1.02 );"
   ]
  },
  {
   "cell_type": "markdown",
   "id": "3fd8a7bf",
   "metadata": {},
   "source": [
    "# Quarterly Performance"
   ]
  },
  {
   "cell_type": "code",
   "execution_count": null,
   "id": "22387519",
   "metadata": {},
   "outputs": [],
   "source": [
    "tickers"
   ]
  },
  {
   "cell_type": "code",
   "execution_count": null,
   "id": "df94c970",
   "metadata": {},
   "outputs": [],
   "source": [
    "qr = pd.DataFrame()\n",
    "for ticker in tickers:\n",
    "    s = returns(pivot, ticker, period = 'quarter')\n",
    "    qr[ticker] = s"
   ]
  },
  {
   "cell_type": "code",
   "execution_count": null,
   "id": "3bbbbd2f",
   "metadata": {},
   "outputs": [],
   "source": [
    "qr = qr.rename_column('^GSPC', 'S&P500')\n",
    "qr = qr.reset_index().clean_names(case_type = 'upper')"
   ]
  },
  {
   "cell_type": "code",
   "execution_count": null,
   "id": "382858a1",
   "metadata": {},
   "outputs": [],
   "source": [
    "mr['Leavenworth Digital Growth'][-3:]"
   ]
  },
  {
   "cell_type": "code",
   "execution_count": null,
   "id": "771e74bc",
   "metadata": {},
   "outputs": [],
   "source": [
    "((mr['Leavenworth Digital Growth'][-3:]+1).cumprod()-1).tail(1)*100"
   ]
  },
  {
   "cell_type": "code",
   "execution_count": null,
   "id": "25d82be7",
   "metadata": {},
   "outputs": [],
   "source": [
    "((mr['BTCUSD'][-3:]+1).cumprod()-1).tail(1)*100"
   ]
  },
  {
   "cell_type": "code",
   "execution_count": null,
   "id": "75deaf98",
   "metadata": {},
   "outputs": [],
   "source": [
    "qr['Leavenworth Digital Growth'] = pd.Series([np.nan, 1.3619, -0.4061, 0.2455, 0.1314])\n",
    "qr['BTCUSD'] = pd.Series([np.nan, 1.0435, -.4083, 0.2423, 0.1144])"
   ]
  },
  {
   "cell_type": "code",
   "execution_count": null,
   "id": "730d967d",
   "metadata": {},
   "outputs": [],
   "source": [
    "qr.dropna()"
   ]
  },
  {
   "cell_type": "code",
   "execution_count": null,
   "id": "4b7bc9d2",
   "metadata": {},
   "outputs": [],
   "source": [
    "qr = qr.dropna()"
   ]
  },
  {
   "cell_type": "code",
   "execution_count": null,
   "id": "1171ffce",
   "metadata": {},
   "outputs": [],
   "source": [
    "qr = qr[['Leavenworth Digital Growth', 'BTCUSD', 'S&P500', 'GLD', 'GBTC', 'DATE']]"
   ]
  },
  {
   "cell_type": "code",
   "execution_count": null,
   "id": "1b45a3a7",
   "metadata": {},
   "outputs": [],
   "source": [
    "qr['DATE'] = qr.DATE.astype(str)"
   ]
  },
  {
   "cell_type": "code",
   "execution_count": null,
   "id": "b3516d7f",
   "metadata": {},
   "outputs": [],
   "source": [
    "qr.loc[1, 'DATE'] = '2021Q1'\n",
    "qr.loc[2, 'DATE'] = '2021Q2'\n",
    "qr.loc[3, 'DATE'] = '2021Q3'\n",
    "qr.loc[4, 'DATE'] = '2021Q4'"
   ]
  },
  {
   "cell_type": "code",
   "execution_count": null,
   "id": "b94638b9",
   "metadata": {},
   "outputs": [],
   "source": [
    "qr = qr.set_index('DATE')"
   ]
  },
  {
   "cell_type": "code",
   "execution_count": null,
   "id": "c98db478",
   "metadata": {},
   "outputs": [],
   "source": [
    "qrx = qr.stack().reset_index().rename_column('level_1','TICKER').rename_column(0, 'VALUE')\n",
    "qrx['RETURN'] = qrx.VALUE*100"
   ]
  },
  {
   "cell_type": "code",
   "execution_count": null,
   "id": "34bb7112",
   "metadata": {},
   "outputs": [],
   "source": [
    "qrx"
   ]
  },
  {
   "cell_type": "code",
   "execution_count": null,
   "id": "8d7e02f3",
   "metadata": {},
   "outputs": [],
   "source": [
    "if image_scale == 1:\n",
    "    fxy = (10,4)\n",
    "else:\n",
    "    fxy = (10*image_scale, 6*image_scale)"
   ]
  },
  {
   "cell_type": "code",
   "execution_count": null,
   "id": "36a1cf8c",
   "metadata": {},
   "outputs": [],
   "source": [
    "f, ax = plt.subplots(figsize = fxy)\n",
    "ax = sns.barplot(data = qrx, x = 'DATE', y = 'RETURN', hue = 'TICKER')\n",
    "ax.yaxis.set_major_formatter(mtick.PercentFormatter())\n",
    "plt.legend(bbox_to_anchor = (1.,1))\n",
    "plt.xticks(rotation = 0)\n",
    "plt.xlabel('QUARTER');\n",
    "lc.whiten_grid(f, ax)\n",
    "change_width(ax, .15)\n",
    "plt.title('Quarterly performance'.upper(), color = 'black');"
   ]
  },
  {
   "cell_type": "code",
   "execution_count": null,
   "id": "9bc22d4e",
   "metadata": {},
   "outputs": [],
   "source": []
  },
  {
   "cell_type": "code",
   "execution_count": null,
   "id": "49061ebb",
   "metadata": {},
   "outputs": [],
   "source": []
  }
 ],
 "metadata": {
  "kernelspec": {
   "display_name": "Python 3 (ipykernel)",
   "language": "python",
   "name": "python3"
  },
  "language_info": {
   "codemirror_mode": {
    "name": "ipython",
    "version": 3
   },
   "file_extension": ".py",
   "mimetype": "text/x-python",
   "name": "python",
   "nbconvert_exporter": "python",
   "pygments_lexer": "ipython3",
   "version": "3.8.12"
  }
 },
 "nbformat": 4,
 "nbformat_minor": 5
}
